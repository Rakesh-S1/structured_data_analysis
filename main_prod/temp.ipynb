{
 "cells": [
  {
   "cell_type": "code",
   "execution_count": 1,
   "metadata": {},
   "outputs": [],
   "source": [
    "import pdfplumber\n",
    "\n",
    "def extract_tables_from_pdf(pdf_path):\n",
    "    tables = []\n",
    "    with pdfplumber.open(pdf_path) as pdf:\n",
    "        for page in pdf.pages:\n",
    "            page_tables = page.extract_tables()\n",
    "            for table in page_tables:\n",
    "                merged_table = merge_multiline_columns(table)\n",
    "                tables.append(merged_table)\n",
    "    return tables\n",
    "\n",
    "def merge_multiline_columns(table):\n",
    "    merged_table = []\n",
    "    for row in table:\n",
    "        merged_row = []\n",
    "        for cell in row:\n",
    "            if isinstance(cell, list):\n",
    "                merged_cell = ' '.join(cell)\n",
    "                merged_row.append(merged_cell)\n",
    "            else:\n",
    "                merged_row.append(cell)\n",
    "        merged_table.append(merged_row)\n",
    "    return merged_table\n"
   ]
  },
  {
   "cell_type": "code",
   "execution_count": 2,
   "metadata": {},
   "outputs": [],
   "source": [
    "import sqlite3\n",
    "import pandas as pd\n",
    "\n",
    "def data_ingest(table_name, data: pd.DataFrame):\n",
    "    with sqlite3.connect(\"mydatabase.db\") as conn:\n",
    "        data.to_sql(table_name, conn, if_exists=\"replace\", index=False)\n",
    "\n",
    "def pdf_to_dict(tables):\n",
    "    table_dict = {}\n",
    "    for i, rows in enumerate(tables):\n",
    "        columns = [col.replace(\"-\", \"_\").replace(\" \", \"\") for col in rows[0]]\n",
    "        data_rows = rows[1:]\n",
    "        df = pd.DataFrame(data_rows, columns=columns)\n",
    "        table_name = f\"table_{i + 1}\"\n",
    "        table_dict[table_name] = columns\n",
    "        data_ingest(table_name, df)\n",
    "    return table_dict\n"
   ]
  },
  {
   "cell_type": "code",
   "execution_count": 3,
   "metadata": {},
   "outputs": [],
   "source": [
    "import sqlite3\n",
    "import pandas as pd\n",
    "\n",
    "def data_ingest(table_name, data: pd.DataFrame):\n",
    "    with sqlite3.connect(\"mydatabase.db\") as conn:\n",
    "        data.to_sql(table_name, conn, if_exists=\"replace\", index=False)\n",
    "\n",
    "def pdf_to_dict(tables):\n",
    "    table_dict = {}\n",
    "    for i, rows in enumerate(tables):\n",
    "        columns = [col.replace(\"-\", \"_\").replace(\" \", \"\") for col in rows[0]]\n",
    "        data_rows = rows[1:]\n",
    "        df = pd.DataFrame(data_rows, columns=columns)\n",
    "        table_name = f\"table_{i + 1}\"\n",
    "        table_dict[table_name] = columns\n",
    "        data_ingest(table_name, df)\n",
    "    return table_dict\n"
   ]
  },
  {
   "cell_type": "code",
   "execution_count": 14,
   "metadata": {},
   "outputs": [],
   "source": [
    "from transformers import pipeline\n",
    "\n",
    "def generate_sql_query(question, table_name, fields):\n",
    "    prompt = f\"\"\"\n",
    "    Please generate an SQL query based on the following information:\n",
    "    Question: {question}\n",
    "    Table Name: {table_name}\n",
    "    Fields: {', '.join(fields)}\n",
    "    \"\"\"\n",
    "    nlp = pipeline(\"text-generation\", model=\"distilgpt2\", truncation=True, max_new_tokens=50)\n",
    "    response = nlp(prompt)\n",
    "    # Extract the generated SQL query from the response\n",
    "    generated_text = response[0][\"generated_text\"]\n",
    "    sql_query = generated_text.split(\"SQL query:\")[1].strip() if \"SQL query:\" in generated_text else generated_text.strip()\n",
    "    print(sql_query)\n",
    "    return sql_query\n"
   ]
  },
  {
   "cell_type": "code",
   "execution_count": 15,
   "metadata": {},
   "outputs": [],
   "source": [
    "def read_sql_query(sql, db):\n",
    "    with sqlite3.connect(db) as conn:\n",
    "        cur = conn.cursor()\n",
    "        cur.execute(sql)\n",
    "        rows = cur.fetchall()\n",
    "        column_names = [description[0] for description in cur.description]\n",
    "    return column_names, rows\n",
    "\n",
    "def answer_question(question, table_name, fields):\n",
    "    sql_query = generate_sql_query(question, table_name, fields)\n",
    "    column_names, rows = read_sql_query(sql_query, \"mydatabase.db\")\n",
    "    return column_names, rows\n"
   ]
  },
  {
   "cell_type": "code",
   "execution_count": 19,
   "metadata": {},
   "outputs": [
    {
     "name": "stderr",
     "output_type": "stream",
     "text": [
      "Setting `pad_token_id` to `eos_token_id`:None for open-end generation.\n"
     ]
    },
    {
     "name": "stdout",
     "output_type": "stream",
     "text": [
      "Please generate an SQL query based on the following information:\n",
      "    Question: select all the records\n",
      "    Table Name: table_1\n",
      "    Fields: ProductID, ProductName, SalesDate, UnitsSold, TotalRevenue\n",
      "        Subject: TableName(in the table format)\n",
      "\n",
      "Now we are now able to generate the following query:\n",
      "SELECT ALL records FROM TABLE_1 :\n",
      "SELECT ALL data FROM TABLE_2 :\n",
      "SELECT BINDERT INTO\n"
     ]
    },
    {
     "ename": "OperationalError",
     "evalue": "near \"Please\": syntax error",
     "output_type": "error",
     "traceback": [
      "\u001b[1;31m---------------------------------------------------------------------------\u001b[0m",
      "\u001b[1;31mOperationalError\u001b[0m                          Traceback (most recent call last)",
      "Cell \u001b[1;32mIn[19], line 12\u001b[0m\n\u001b[0;32m     10\u001b[0m table_name \u001b[38;5;241m=\u001b[39m \u001b[38;5;28mlist\u001b[39m(table_dict\u001b[38;5;241m.\u001b[39mkeys())[\u001b[38;5;241m0\u001b[39m]\n\u001b[0;32m     11\u001b[0m fields \u001b[38;5;241m=\u001b[39m table_dict[table_name]\n\u001b[1;32m---> 12\u001b[0m columns, answer \u001b[38;5;241m=\u001b[39m \u001b[43manswer_question\u001b[49m\u001b[43m(\u001b[49m\u001b[43mquestion\u001b[49m\u001b[43m,\u001b[49m\u001b[43m \u001b[49m\u001b[43mtable_name\u001b[49m\u001b[43m,\u001b[49m\u001b[43m \u001b[49m\u001b[43mfields\u001b[49m\u001b[43m)\u001b[49m\n\u001b[0;32m     13\u001b[0m \u001b[38;5;28mprint\u001b[39m(\u001b[38;5;124m\"\u001b[39m\u001b[38;5;124mAnswer:\u001b[39m\u001b[38;5;124m\"\u001b[39m, answer)\n",
      "Cell \u001b[1;32mIn[15], line 11\u001b[0m, in \u001b[0;36manswer_question\u001b[1;34m(question, table_name, fields)\u001b[0m\n\u001b[0;32m      9\u001b[0m \u001b[38;5;28;01mdef\u001b[39;00m \u001b[38;5;21manswer_question\u001b[39m(question, table_name, fields):\n\u001b[0;32m     10\u001b[0m     sql_query \u001b[38;5;241m=\u001b[39m generate_sql_query(question, table_name, fields)\n\u001b[1;32m---> 11\u001b[0m     column_names, rows \u001b[38;5;241m=\u001b[39m \u001b[43mread_sql_query\u001b[49m\u001b[43m(\u001b[49m\u001b[43msql_query\u001b[49m\u001b[43m,\u001b[49m\u001b[43m \u001b[49m\u001b[38;5;124;43m\"\u001b[39;49m\u001b[38;5;124;43mmydatabase.db\u001b[39;49m\u001b[38;5;124;43m\"\u001b[39;49m\u001b[43m)\u001b[49m\n\u001b[0;32m     12\u001b[0m     \u001b[38;5;28;01mreturn\u001b[39;00m column_names, rows\n",
      "Cell \u001b[1;32mIn[15], line 4\u001b[0m, in \u001b[0;36mread_sql_query\u001b[1;34m(sql, db)\u001b[0m\n\u001b[0;32m      2\u001b[0m \u001b[38;5;28;01mwith\u001b[39;00m sqlite3\u001b[38;5;241m.\u001b[39mconnect(db) \u001b[38;5;28;01mas\u001b[39;00m conn:\n\u001b[0;32m      3\u001b[0m     cur \u001b[38;5;241m=\u001b[39m conn\u001b[38;5;241m.\u001b[39mcursor()\n\u001b[1;32m----> 4\u001b[0m     \u001b[43mcur\u001b[49m\u001b[38;5;241;43m.\u001b[39;49m\u001b[43mexecute\u001b[49m\u001b[43m(\u001b[49m\u001b[43msql\u001b[49m\u001b[43m)\u001b[49m\n\u001b[0;32m      5\u001b[0m     rows \u001b[38;5;241m=\u001b[39m cur\u001b[38;5;241m.\u001b[39mfetchall()\n\u001b[0;32m      6\u001b[0m     column_names \u001b[38;5;241m=\u001b[39m [description[\u001b[38;5;241m0\u001b[39m] \u001b[38;5;28;01mfor\u001b[39;00m description \u001b[38;5;129;01min\u001b[39;00m cur\u001b[38;5;241m.\u001b[39mdescription]\n",
      "\u001b[1;31mOperationalError\u001b[0m: near \"Please\": syntax error"
     ]
    }
   ],
   "source": [
    "# Extract tables from PDF\n",
    "pdf_path = '../Sales_Report_Sample.pdf'\n",
    "extracted_tables = extract_tables_from_pdf(pdf_path)\n",
    "\n",
    "# Process tables and ingest data\n",
    "table_dict = pdf_to_dict(extracted_tables)\n",
    "\n",
    "# Generate a response to a question\n",
    "question = \"select all the records\"\n",
    "table_name = list(table_dict.keys())[0]\n",
    "fields = table_dict[table_name]\n",
    "columns, answer = answer_question(question, table_name, fields)\n",
    "print(\"Answer:\", answer)\n"
   ]
  },
  {
   "cell_type": "code",
   "execution_count": null,
   "metadata": {},
   "outputs": [],
   "source": []
  },
  {
   "cell_type": "code",
   "execution_count": null,
   "metadata": {},
   "outputs": [],
   "source": []
  }
 ],
 "metadata": {
  "kernelspec": {
   "display_name": "SDA",
   "language": "python",
   "name": "python3"
  },
  "language_info": {
   "codemirror_mode": {
    "name": "ipython",
    "version": 3
   },
   "file_extension": ".py",
   "mimetype": "text/x-python",
   "name": "python",
   "nbconvert_exporter": "python",
   "pygments_lexer": "ipython3",
   "version": "3.12.7"
  }
 },
 "nbformat": 4,
 "nbformat_minor": 2
}
